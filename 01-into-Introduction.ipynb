{
 "metadata": {
  "name": "",
  "signature": "sha256:7c8e4e17cda16a550aa5b7a03e265dbb4eadea7d83a455ad26c146829687c82e"
 },
 "nbformat": 3,
 "nbformat_minor": 0,
 "worksheets": [
  {
   "cells": [
    {
     "cell_type": "markdown",
     "metadata": {},
     "source": [
      "<img src=\"images/blaze_med.png\" alt=\"Blaze Logo\"\n",
      "                                align=\"right\"\n",
      "                                width=\"30%\">\n",
      "\n",
      "# Getting started with `into`\n",
      "\n",
      "* Full tutorial available at http://github.com/ContinuumIO/blaze-tutorial\n",
      "* Install software with `conda install -c blaze blaze`"
     ]
    },
    {
     "cell_type": "markdown",
     "metadata": {},
     "source": [
      "# 0. Introduction\n",
      "\n",
      "## Describing Data\n",
      "\n",
      "We describe \"data\" with a few attributes\n",
      "\n",
      "1.  Where that data lives (in a file on your laptop, in the cloud, etc..)\n",
      "2.  What data-types we use (we represent names as `strings` and balances as `float32`s)\n",
      "3.  What storage format we use (we store in CSV, in a PostgreSQL database, in JSON)\n",
      "4.  The semantic values that those bits represent (Barack Obama, or the number 3)\n",
      "\n",
      "As analysts we care only about point 4, the values that our data represent.  Points 1-3 are incidental to how we use computers; these points only get in the way of analysis.\n",
      "\n",
      "As computationalists though we care very deeply about points 1-3.  The choice of format, location, and datatype *strongly* impact the efficiency and correctness of our computations.  Good choices here can mean the difference between waiting overnight and using our data *interactively*.\n",
      "\n",
      "Unfortunately points 1-3 encompass a lot of complexity and change more quickly than most analysts care to manage.\n",
      "\n",
      "The `into` project alleviates the pain of dealing with the first three points by providing intuitive description and transfer between data formats and storage systems.  This allows analysts to quickly reason about and migrate their data to efficient, correct, and resilient formats."
     ]
    },
    {
     "cell_type": "markdown",
     "metadata": {},
     "source": [
      "### Motivating Example\n",
      "\n",
      "Before we start small with the tutorial we give a more comprehensive example.\n",
      "\n",
      "We have a small CSV file holding the iris data"
     ]
    },
    {
     "cell_type": "code",
     "collapsed": false,
     "input": [
      "!head -5 data/iris.csv"
     ],
     "language": "python",
     "metadata": {},
     "outputs": [
      {
       "output_type": "stream",
       "stream": "stdout",
       "text": [
        "sepal_length,sepal_width,petal_length,petal_width,species\r\n",
        "5.1,3.5,1.4,0.2,Iris-setosa\r\n",
        "4.9,3.0,1.4,0.2,Iris-setosa\r\n",
        "4.7,3.2,1.3,0.2,Iris-setosa\r\n",
        "4.6,3.1,1.5,0.2,Iris-setosa\r\n"
       ]
      }
     ],
     "prompt_number": 1
    },
    {
     "cell_type": "markdown",
     "metadata": {},
     "source": [
      "We put this data into a list, a NumPy array, and a SQLite database.  We move data to three very different technologies with the same abstraction."
     ]
    },
    {
     "cell_type": "code",
     "collapsed": false,
     "input": [
      "from into import into\n",
      "into(list, 'data/iris.csv')[:5]"
     ],
     "language": "python",
     "metadata": {},
     "outputs": [
      {
       "metadata": {},
       "output_type": "pyout",
       "prompt_number": 2,
       "text": [
        "[(5.1, 3.5, 1.4, 0.2, u'Iris-setosa'),\n",
        " (4.9, 3.0, 1.4, 0.2, u'Iris-setosa'),\n",
        " (4.7, 3.2, 1.3, 0.2, u'Iris-setosa'),\n",
        " (4.6, 3.1, 1.5, 0.2, u'Iris-setosa'),\n",
        " (5.0, 3.6, 1.4, 0.2, u'Iris-setosa')]"
       ]
      }
     ],
     "prompt_number": 2
    },
    {
     "cell_type": "code",
     "collapsed": false,
     "input": [
      "import numpy as np\n",
      "into(np.ndarray, 'data/iris.csv')[:5]"
     ],
     "language": "python",
     "metadata": {},
     "outputs": [
      {
       "metadata": {},
       "output_type": "pyout",
       "prompt_number": 3,
       "text": [
        "rec.array([(5.1, 3.5, 1.4, 0.2, u'Iris-setosa'),\n",
        "       (4.9, 3.0, 1.4, 0.2, u'Iris-setosa'),\n",
        "       (4.7, 3.2, 1.3, 0.2, u'Iris-setosa'),\n",
        "       (4.6, 3.1, 1.5, 0.2, u'Iris-setosa'),\n",
        "       (5.0, 3.6, 1.4, 0.2, u'Iris-setosa')], \n",
        "      dtype=[('sepal_length', '<f8'), ('sepal_width', '<f8'), ('petal_length', '<f8'), ('petal_width', '<f8'), ('species', 'O')])"
       ]
      }
     ],
     "prompt_number": 3
    },
    {
     "cell_type": "code",
     "collapsed": false,
     "input": [
      "into('sqlite:///data/my.db::iris', 'data/iris.csv')"
     ],
     "language": "python",
     "metadata": {},
     "outputs": [
      {
       "metadata": {},
       "output_type": "pyout",
       "prompt_number": 4,
       "text": [
        "Table('iris', MetaData(bind=Engine(sqlite:///data/my.db)), Column('sepal_length', FLOAT(), table=<iris>, nullable=False), Column('sepal_width', FLOAT(), table=<iris>, nullable=False), Column('petal_length', FLOAT(), table=<iris>, nullable=False), Column('petal_width', FLOAT(), table=<iris>, nullable=False), Column('species', TEXT(), table=<iris>, nullable=False), schema=None)"
       ]
      }
     ],
     "prompt_number": 4
    },
    {
     "cell_type": "markdown",
     "metadata": {},
     "source": [
      "### Outline\n",
      "\n",
      "Into moves data between formats intuitively.\n",
      "\n",
      "We structure this tutorial as follows:\n",
      "\n",
      "1.  **Basic How-to**: on how to use this library effectively\n",
      "2.  **Datatypes**: to enhance performance\n",
      "3.  **Internals**"
     ]
    },
    {
     "cell_type": "markdown",
     "metadata": {},
     "source": [
      "`into` is available on conda\n",
      "\n",
      "    conda install into\n",
      "    \n",
      "or on PyPI\n",
      "\n",
      "    pip install into\n",
      "   "
     ]
    },
    {
     "cell_type": "markdown",
     "metadata": {},
     "source": [
      "# 1.  Basic Usage"
     ]
    },
    {
     "cell_type": "markdown",
     "metadata": {},
     "source": [
      "## 1.1 `into`"
     ]
    },
    {
     "cell_type": "code",
     "collapsed": false,
     "input": [
      "from into import into"
     ],
     "language": "python",
     "metadata": {},
     "outputs": [],
     "prompt_number": 5
    },
    {
     "cell_type": "markdown",
     "metadata": {},
     "source": [
      "Into takes two arguments, a target and a source\n",
      "\n",
      "    into(target, source)\n",
      "    \n",
      "And it turns the source into something like the target"
     ]
    },
    {
     "cell_type": "markdown",
     "metadata": {},
     "source": [
      "### The `target` can be a type\n",
      "\n",
      "In which case it makes a new object of that type"
     ]
    },
    {
     "cell_type": "code",
     "collapsed": false,
     "input": [
      "import numpy as np\n",
      "into(np.ndarray, [1, 2, 3])"
     ],
     "language": "python",
     "metadata": {},
     "outputs": [
      {
       "metadata": {},
       "output_type": "pyout",
       "prompt_number": 6,
       "text": [
        "array([1, 2, 3])"
       ]
      }
     ],
     "prompt_number": 6
    },
    {
     "cell_type": "code",
     "collapsed": false,
     "input": [
      "into(set, [1, 2, 3])"
     ],
     "language": "python",
     "metadata": {},
     "outputs": [
      {
       "metadata": {},
       "output_type": "pyout",
       "prompt_number": 7,
       "text": [
        "{1, 2, 3}"
       ]
      }
     ],
     "prompt_number": 7
    },
    {
     "cell_type": "code",
     "collapsed": false,
     "input": [
      "import pandas as pd\n",
      "into(pd.Series, (10, 20, 30))"
     ],
     "language": "python",
     "metadata": {},
     "outputs": [
      {
       "metadata": {},
       "output_type": "pyout",
       "prompt_number": 8,
       "text": [
        "0    10\n",
        "1    20\n",
        "2    30\n",
        "dtype: int64"
       ]
      }
     ],
     "prompt_number": 8
    },
    {
     "cell_type": "markdown",
     "metadata": {},
     "source": [
      "#### Exercise\n",
      "\n",
      "Use into to turn the following DataFrame into an `np.ndarray` and a `list`"
     ]
    },
    {
     "cell_type": "code",
     "collapsed": false,
     "input": [
      "df = pd.DataFrame([['Alice',   100],\n",
      "                   ['Bob',     200],\n",
      "                   ['Charlie', 300]], columns=['name', 'balance'])"
     ],
     "language": "python",
     "metadata": {},
     "outputs": [],
     "prompt_number": 9
    },
    {
     "cell_type": "code",
     "collapsed": false,
     "input": [
      "# Turn df into an np.ndarray\n",
      "# into(..., ...)"
     ],
     "language": "python",
     "metadata": {},
     "outputs": [],
     "prompt_number": 10
    },
    {
     "cell_type": "code",
     "collapsed": false,
     "input": [
      "# Turn df into a list\n",
      "# into(..., ...)"
     ],
     "language": "python",
     "metadata": {},
     "outputs": [],
     "prompt_number": 11
    },
    {
     "cell_type": "markdown",
     "metadata": {},
     "source": [
      "### The `target` can be an object\n",
      "\n",
      "In which we append the source to that object."
     ]
    },
    {
     "cell_type": "code",
     "collapsed": false,
     "input": [
      "target = []\n",
      "into(target, (1, 2, 3))\n",
      "into(target, (1, 2, 3))\n",
      "into(target, (1, 2, 3))\n",
      "target"
     ],
     "language": "python",
     "metadata": {},
     "outputs": [
      {
       "metadata": {},
       "output_type": "pyout",
       "prompt_number": 12,
       "text": [
        "[1, 2, 3, 1, 2, 3, 1, 2, 3]"
       ]
      }
     ],
     "prompt_number": 12
    },
    {
     "cell_type": "markdown",
     "metadata": {},
     "source": [
      "#### Exercise\n",
      "\n",
      "Use `into` to make a set holding all the data in the following list of DataFrames."
     ]
    },
    {
     "cell_type": "code",
     "collapsed": false,
     "input": [
      "L = [pd.DataFrame({'name': ['Alice', 'Bob'], 'balance': [100, 200]}),\n",
      "     pd.DataFrame({'name': ['Charlie', 'Dan'], 'balance': [300, 400]}),\n",
      "     pd.DataFrame({'name': ['Edith', 'Frank'], 'balance': [500, 600]})]"
     ],
     "language": "python",
     "metadata": {},
     "outputs": [],
     "prompt_number": 13
    },
    {
     "cell_type": "code",
     "collapsed": false,
     "input": [
      "s = set()\n",
      "# Use into and some kind of for loop to put all of the data in L into the set s\n"
     ],
     "language": "python",
     "metadata": {},
     "outputs": [],
     "prompt_number": 14
    },
    {
     "cell_type": "markdown",
     "metadata": {},
     "source": [
      "#### Exercise\n",
      "\n",
      "Repeat the last exercise but append all of the data onto a `tuple`.  What do you expect to happen?"
     ]
    },
    {
     "cell_type": "code",
     "collapsed": false,
     "input": [
      "t = tuple()\n"
     ],
     "language": "python",
     "metadata": {},
     "outputs": [],
     "prompt_number": 15
    },
    {
     "cell_type": "markdown",
     "metadata": {},
     "source": [
      "It's important to know that `into` has limitations.  "
     ]
    },
    {
     "cell_type": "markdown",
     "metadata": {},
     "source": [
      "### The target can be a string\n",
      "\n",
      "Many data sources external to Python (like a CSV file) don't have a Python object that we can put as the source or target.  In these cases we use string URIs.  Examples of strings include\n",
      "\n",
      "    myfile.csv\n",
      "    myfile.json\n",
      "    myfile.hdf5::/data/path\n",
      "    sqlite:///myfile.db::table-name\n",
      "    postgresql:///user:password@host:port::table-name\n",
      "    ...\n",
      "    \n",
      "These can go either in the source or target inputs.\n",
      "\n",
      "Here we write our dataframe to a CSV file"
     ]
    },
    {
     "cell_type": "code",
     "collapsed": false,
     "input": [
      "!rm accounts.csv"
     ],
     "language": "python",
     "metadata": {},
     "outputs": [],
     "prompt_number": 63
    },
    {
     "cell_type": "code",
     "collapsed": false,
     "input": [
      "# Write DataFrame to CSV file\n",
      "into('accounts.csv', df)"
     ],
     "language": "python",
     "metadata": {},
     "outputs": [
      {
       "metadata": {},
       "output_type": "pyout",
       "prompt_number": 64,
       "text": [
        "<into.backends.csv.CSV at 0x7fcd632c71d0>"
       ]
      }
     ],
     "prompt_number": 64
    },
    {
     "cell_type": "code",
     "collapsed": false,
     "input": [
      "!head accounts.csv  # print out text in accounts.csv"
     ],
     "language": "python",
     "metadata": {},
     "outputs": [
      {
       "output_type": "stream",
       "stream": "stdout",
       "text": [
        "name,balance\r\n",
        "Alice,100\r\n",
        "Bob,200\r\n",
        "Charlie,300\r\n"
       ]
      }
     ],
     "prompt_number": 65
    },
    {
     "cell_type": "code",
     "collapsed": false,
     "input": [
      "# Read CSV file into memory as list\n",
      "into(list, 'accounts.csv')"
     ],
     "language": "python",
     "metadata": {},
     "outputs": [
      {
       "metadata": {},
       "output_type": "pyout",
       "prompt_number": 66,
       "text": [
        "[(u'Alice', 100), (u'Bob', 200), (u'Charlie', 300)]"
       ]
      }
     ],
     "prompt_number": 66
    },
    {
     "cell_type": "markdown",
     "metadata": {},
     "source": [
      "#### Exercise\n",
      "\n",
      "Read the contents of the file `'data/iris.csv'` into a `pd.DataFrame`.  Then write that dataframe to `'data/iris.json'`.  Inspect the json data to ensure that it came out correctly."
     ]
    },
    {
     "cell_type": "code",
     "collapsed": false,
     "input": [],
     "language": "python",
     "metadata": {},
     "outputs": [],
     "prompt_number": 18
    },
    {
     "cell_type": "markdown",
     "metadata": {},
     "source": [
      "#### Exercise\n",
      "\n",
      "Write the contents of your json file to a SQLite database using the following URI as target\n",
      "\n",
      "    `sqlite:///data/my.db::iris'\n",
      "    \n",
      "Then read data from that SQLite database into Python to make sure that it arrived safely."
     ]
    },
    {
     "cell_type": "markdown",
     "metadata": {},
     "source": [
      "## 1.2  `resource`\n",
      "\n",
      "Much interesting data lives *outside* of Python.  As we just saw, we often use URIs to specify this kind of data.\n",
      "\n",
      "Here we load a bit of a SQL database on baseball statistics ([download here](https://github.com/jknecht/baseball-archive-sqlite/raw/master/lahman2013.sqlite)) into memory as a list"
     ]
    },
    {
     "cell_type": "code",
     "collapsed": false,
     "input": [
      "into(list, 'sqlite:///data/lahman2013.sqlite::battingpost')[:5]"
     ],
     "language": "python",
     "metadata": {},
     "outputs": [
      {
       "metadata": {},
       "output_type": "pyout",
       "prompt_number": 19,
       "text": [
        "[(1884, u'WS', u'becanbu01', u'NY4', u'AA', 1, 2, 0, 1, 0, 0, 0, 0, 0, None, 0, 0, 0, None, None, None, None),\n",
        " (1884, u'WS', u'bradyst01', u'NY4', u'AA', 3, 10, 1, 0, 0, 0, 0, 0, 0, None, 0, 1, 0, None, None, None, None),\n",
        " (1884, u'WS', u'carrocl01', u'PRO', u'NL', 3, 10, 2, 1, 0, 0, 0, 1, 0, None, 1, 1, 0, None, None, None, None),\n",
        " (1884, u'WS', u'dennyje01', u'PRO', u'NL', 3, 9, 3, 4, 0, 1, 1, 2, 0, None, 0, 3, 0, None, None, None, None),\n",
        " (1884, u'WS', u'esterdu01', u'NY4', u'AA', 3, 10, 0, 3, 1, 0, 0, 0, 1, None, 0, 3, 0, None, None, None, None)]"
       ]
      }
     ],
     "prompt_number": 19
    },
    {
     "cell_type": "markdown",
     "metadata": {},
     "source": [
      "Now we learn how these strings work so that we can specify many types of external data.\n",
      "\n",
      "Internally `into` uses the function `resource` to turn a string into a Python proxy object.  Usually these objects don't hold the data themselves.  They just serve as useful pointers to where the data lives.  In most cases we use other Python projects for proxy objects.\n",
      "\n",
      "In the case of SQL tables, resource returns a `sqlalchemy.Table` object."
     ]
    },
    {
     "cell_type": "code",
     "collapsed": false,
     "input": [
      "from into import resource\n",
      "t = resource('sqlite:///data/lahman2013.sqlite::battingpost')"
     ],
     "language": "python",
     "metadata": {},
     "outputs": [],
     "prompt_number": 20
    },
    {
     "cell_type": "code",
     "collapsed": false,
     "input": [
      "type(t)"
     ],
     "language": "python",
     "metadata": {},
     "outputs": [
      {
       "metadata": {},
       "output_type": "pyout",
       "prompt_number": 21,
       "text": [
        "sqlalchemy.sql.schema.Table"
       ]
      }
     ],
     "prompt_number": 21
    },
    {
     "cell_type": "code",
     "collapsed": false,
     "input": [
      "t"
     ],
     "language": "python",
     "metadata": {},
     "outputs": [
      {
       "metadata": {},
       "output_type": "pyout",
       "prompt_number": 62,
       "text": [
        "Table('mydf', MetaData(bind=Engine(sqlite:///:memory:)), Column('name', Text(), table=<mydf>, nullable=False), Column('balance', BigInteger(), table=<mydf>, nullable=False), schema=None)"
       ]
      }
     ],
     "prompt_number": 62
    },
    {
     "cell_type": "markdown",
     "metadata": {},
     "source": [
      "We use *this* object as the `into` source."
     ]
    },
    {
     "cell_type": "code",
     "collapsed": false,
     "input": [
      "into(list, t)[:5]"
     ],
     "language": "python",
     "metadata": {},
     "outputs": [
      {
       "metadata": {},
       "output_type": "pyout",
       "prompt_number": 23,
       "text": [
        "[(1884, u'WS', u'becanbu01', u'NY4', u'AA', 1, 2, 0, 1, 0, 0, 0, 0, 0, None, 0, 0, 0, None, None, None, None),\n",
        " (1884, u'WS', u'bradyst01', u'NY4', u'AA', 3, 10, 1, 0, 0, 0, 0, 0, 0, None, 0, 1, 0, None, None, None, None),\n",
        " (1884, u'WS', u'carrocl01', u'PRO', u'NL', 3, 10, 2, 1, 0, 0, 0, 1, 0, None, 1, 1, 0, None, None, None, None),\n",
        " (1884, u'WS', u'dennyje01', u'PRO', u'NL', 3, 9, 3, 4, 0, 1, 1, 2, 0, None, 0, 3, 0, None, None, None, None),\n",
        " (1884, u'WS', u'esterdu01', u'NY4', u'AA', 3, 10, 0, 3, 1, 0, 0, 0, 1, None, 0, 3, 0, None, None, None, None)]"
       ]
      }
     ],
     "prompt_number": 23
    },
    {
     "cell_type": "markdown",
     "metadata": {},
     "source": [
      "So when you write\n",
      "\n",
      "```python\n",
      "into(list, 'some-string')\n",
      "```\n",
      "\n",
      "It is actually just shorthand for\n",
      "\n",
      "```python\n",
      "into(list, resource('some-string'))\n",
      "```"
     ]
    },
    {
     "cell_type": "markdown",
     "metadata": {},
     "source": [
      "#### Exercise\n",
      "\n",
      "We have some data in the `data/` directory.  Use `resource` on each of the following strings to see what it returns.\n",
      "\n",
      "    sqlite:///data/lahman2013.sqlite::battingpost\n",
      "    sqlite:///data/lahman2013.sqlite::salaries\n",
      "    sqlite:///data/lahman2013.sqlite\n",
      "    data/sample.hdf5::/x\n",
      "    data/sample.hdf5\n",
      "    data/iris.csv"
     ]
    },
    {
     "cell_type": "markdown",
     "metadata": {},
     "source": [
      "### The `::` separator\n",
      "\n",
      "In the last exercise we saw the following URI for a table in a SQLite database\n",
      "\n",
      "    sqlite:///data/my.db::iris\n",
      "    \n",
      "We deconstruct this URI to make it more clear.  First we separate the URI on `::` to separate out the database from the table name\n",
      "\n",
      "    Database:    sqlite:///data/my.db\n",
      "    Table name:  iris\n",
      "    \n",
      "We use the `::` separator whenever datasets live within some nested structure like a database or HDF5 file."
     ]
    },
    {
     "cell_type": "markdown",
     "metadata": {},
     "source": [
      "### Specifying protocols with `://`\n",
      "\n",
      "The database string `sqlite:///data/my.db` is specific to SQLAlchemy, but follows a common format, notably\n",
      "\n",
      "    Protocol:  sqlite://\n",
      "    Filename:  data/my.db\n",
      "    \n",
      "Into also uses protocols in many cases to give extra hints on how to handle your data.  For example Python has a few different libraries to handle HDF5 files (`h5py`, `pytables`, `pandas.HDFStore`).  By default when we see a URI like `myfile.hdf5` we currently use `h5py`.  To override this behavior you can specify a protocol string like `hdfstore://myfile.hdf5` to specify that you want to use the special `pandas.HDFStore` format.\n"
     ]
    },
    {
     "cell_type": "markdown",
     "metadata": {},
     "source": [
      "### Exercise\n",
      "\n",
      "People use the `.json` extension in two ways.  \n",
      "\n",
      "1.  The entire file is one JSON blob, often a list of dictionaries.  (Traditional JSON)\n",
      "2.  Each line of the file is one JSON blob (Line-delimited JSON or JSON-lines.)\n",
      "\n",
      "Parsers have a hard time figuring out which case is which.  When reading an existing file `into` can usually figure out if the file is line-delimited or not.  When createing a file however we don't know what your intention is.  You can specify your intention by adding either a `json://` or `jsonlines://` protocol."
     ]
    },
    {
     "cell_type": "markdown",
     "metadata": {},
     "source": [
      "Here we write our dataframe to a JSON file."
     ]
    },
    {
     "cell_type": "code",
     "collapsed": true,
     "input": [
      "into('accounts.json', df)\n",
      "!head accounts.json"
     ],
     "language": "python",
     "metadata": {},
     "outputs": [
      {
       "output_type": "stream",
       "stream": "stdout",
       "text": [
        "[{\"balance\": 100, \"name\": \"Alice\"}, {\"balance\": 200, \"name\": \"Bob\"}, {\"balance\": 300, \"name\": \"Charlie\"}]"
       ]
      }
     ],
     "prompt_number": 24
    },
    {
     "cell_type": "code",
     "collapsed": false,
     "input": [
      "!rm accounts.json  # Remove old file"
     ],
     "language": "python",
     "metadata": {},
     "outputs": [],
     "prompt_number": 25
    },
    {
     "cell_type": "markdown",
     "metadata": {},
     "source": [
      "This is the traditional single-JSON-blob-per-file format.  \n",
      "\n",
      "Instead write our DataFrame in the line-delimited format by adding a `jsonlines://` protocol to the target string.  Inspect the result to make sure that each line is a separate valid JSON blob."
     ]
    },
    {
     "cell_type": "markdown",
     "metadata": {},
     "source": [
      "## 2. Datatypes for Performance tuning\n",
      "\n",
      "*  *Do we store these as integers or floats?  `int32` or `int64`?  `int8`?*\n",
      "*  *Do we store times as datetimes or as strings?*\n",
      "*  *Do we store these strings as variable length or fixed length*?\n",
      "*  *Do we know how large this array will be?*\n",
      "\n",
      "As we encode values as bits we make choices; those choices can affect performance.  We encode how to convert values to bits and back as a *datatype*.  You've seen data types before in many forms including C types like `long`, `double` and `double[100]`, numpy dtypes like `i4` and `f8` or Python types like `int`, and `float`.  Other systems like SQL, HDF5, etc. have similar datatype systems with different names.\n",
      "\n",
      "To manage datatypes across different systems we use `datashape` a datatype system that maps cleanly on to all systems with which `into` interacts.  This one system can translate into any of the others.\n",
      "\n",
      "In this section we'll talk about the following\n",
      "\n",
      "1.  How to discover the datatype of your data, no matter how it is stored\n",
      "2.  Minor tweaks you can do to that datatype to improve performance in certain storage systems\n",
      "3.  How to create new datasets easily"
     ]
    },
    {
     "cell_type": "markdown",
     "metadata": {},
     "source": [
      "## 2.1  DataShape and `discover`\n",
      "\n",
      "We introduce datashape, an all-encompassing datatype language, and `discover`, a function that does all of the work for you.\n",
      "\n",
      "The discover function returns the datashape of an object.  Lets look at a few examples."
     ]
    },
    {
     "cell_type": "code",
     "collapsed": false,
     "input": [
      "from into import discover\n",
      "discover(1)"
     ],
     "language": "python",
     "metadata": {},
     "outputs": [
      {
       "metadata": {},
       "output_type": "pyout",
       "prompt_number": 26,
       "text": [
        "ctype(\"int64\")"
       ]
      }
     ],
     "prompt_number": 26
    },
    {
     "cell_type": "code",
     "collapsed": false,
     "input": [
      "discover([1, 2, 3])"
     ],
     "language": "python",
     "metadata": {},
     "outputs": [
      {
       "metadata": {},
       "output_type": "pyout",
       "prompt_number": 27,
       "text": [
        "dshape(\"3 * int64\")"
       ]
      }
     ],
     "prompt_number": 27
    },
    {
     "cell_type": "code",
     "collapsed": false,
     "input": [
      "discover([[1, 2, 3],\n",
      "          [4, 5, 6]])"
     ],
     "language": "python",
     "metadata": {},
     "outputs": [
      {
       "metadata": {},
       "output_type": "pyout",
       "prompt_number": 28,
       "text": [
        "dshape(\"2 * 3 * int64\")"
       ]
      }
     ],
     "prompt_number": 28
    },
    {
     "cell_type": "code",
     "collapsed": false,
     "input": [
      "discover([{'x': 1, 'y': 1.0},\n",
      "          {'x': 2, 'y': 2.0},\n",
      "          {'x': 3, 'y': 3.0}])"
     ],
     "language": "python",
     "metadata": {},
     "outputs": [
      {
       "metadata": {},
       "output_type": "pyout",
       "prompt_number": 29,
       "text": [
        "dshape(\"3 * {x: int64, y: float64}\")"
       ]
      }
     ],
     "prompt_number": 29
    },
    {
     "cell_type": "code",
     "collapsed": false,
     "input": [
      "discover(df)"
     ],
     "language": "python",
     "metadata": {},
     "outputs": [
      {
       "metadata": {},
       "output_type": "pyout",
       "prompt_number": 30,
       "text": [
        "dshape(\"3 * {name: string, balance: int64}\")"
       ]
      }
     ],
     "prompt_number": 30
    },
    {
     "cell_type": "markdown",
     "metadata": {},
     "source": [
      "By looking closely at these examples we see the structure of datashape.  Elements have types like `int64` or `string`.  Records/structs/groups of elements have record dtypes like `{x: int64, y: float64}`.  Lengths of collections are encoded by numbers like `3 * ` for \"three of\" or `2 * 3 * ` for \"a two-by-three grid of\"."
     ]
    },
    {
     "cell_type": "markdown",
     "metadata": {},
     "source": [
      "#### Exercise\n",
      "\n",
      "Construct data with the following datashapes.  Use any container type (e.g. `list`, `pd.DataFrame`, `np.ndarray`).\n",
      "\n",
      "    2 * int64\n",
      "    2 * string\n",
      "    {name: string, id: int}\n",
      "    datetime\n",
      "    {name: string, id: int, payments: 2 * datetime}\n",
      "    2 * {name: string, id: int, payments: 2 * datetime}\n",
      "    5 * 5 * 5 * float32\n",
      "    \n",
      "Use `discover` to verify your answers."
     ]
    },
    {
     "cell_type": "code",
     "collapsed": false,
     "input": [
      "# Should be 2 * int64\n",
      "discover([1, 2])  "
     ],
     "language": "python",
     "metadata": {},
     "outputs": [
      {
       "metadata": {},
       "output_type": "pyout",
       "prompt_number": 31,
       "text": [
        "dshape(\"2 * int64\")"
       ]
      }
     ],
     "prompt_number": 31
    },
    {
     "cell_type": "code",
     "collapsed": false,
     "input": [],
     "language": "python",
     "metadata": {},
     "outputs": [],
     "prompt_number": 31
    },
    {
     "cell_type": "code",
     "collapsed": false,
     "input": [],
     "language": "python",
     "metadata": {},
     "outputs": [],
     "prompt_number": 31
    },
    {
     "cell_type": "code",
     "collapsed": false,
     "input": [],
     "language": "python",
     "metadata": {},
     "outputs": [],
     "prompt_number": 31
    },
    {
     "cell_type": "code",
     "collapsed": false,
     "input": [],
     "language": "python",
     "metadata": {},
     "outputs": [],
     "prompt_number": 31
    },
    {
     "cell_type": "code",
     "collapsed": false,
     "input": [],
     "language": "python",
     "metadata": {},
     "outputs": [],
     "prompt_number": 31
    },
    {
     "cell_type": "markdown",
     "metadata": {},
     "source": [
      "### Discover doesn't care about storage format\n",
      "\n",
      "The `discover` function doesn't care if your data lives in a Python list, Pandas DataFrame, NumPy Array, CSV file, PySpark RDD, or SQL database.  \n",
      "\n",
      "In other words, using `into` preserves datashape."
     ]
    },
    {
     "cell_type": "code",
     "collapsed": false,
     "input": [
      "discover(df)"
     ],
     "language": "python",
     "metadata": {},
     "outputs": [
      {
       "metadata": {},
       "output_type": "pyout",
       "prompt_number": 32,
       "text": [
        "dshape(\"3 * {name: string, balance: int64}\")"
       ]
      }
     ],
     "prompt_number": 32
    },
    {
     "cell_type": "code",
     "collapsed": false,
     "input": [
      "x = into(np.ndarray, df)\n",
      "discover(x)  # different container, same datashape"
     ],
     "language": "python",
     "metadata": {},
     "outputs": [
      {
       "metadata": {},
       "output_type": "pyout",
       "prompt_number": 33,
       "text": [
        "dshape(\"3 * {name: string, balance: int64}\")"
       ]
      }
     ],
     "prompt_number": 33
    },
    {
     "cell_type": "code",
     "collapsed": false,
     "input": [
      "t = into('sqlite:///:memory:::mydf', df)\n",
      "discover(t)  # different container, mostly the same datashape"
     ],
     "language": "python",
     "metadata": {},
     "outputs": [
      {
       "metadata": {},
       "output_type": "pyout",
       "prompt_number": 34,
       "text": [
        "dshape(\"var * {name: string, balance: int64}\")"
       ]
      }
     ],
     "prompt_number": 34
    },
    {
     "cell_type": "markdown",
     "metadata": {},
     "source": [
      "### Discover works on nested structures\n",
      "\n",
      "Call discover on a single table of our baseball statistics database."
     ]
    },
    {
     "cell_type": "code",
     "collapsed": false,
     "input": [
      "salaries = resource('sqlite:///data/lahman2013.sqlite::salaries')\n",
      "discover(salaries)"
     ],
     "language": "python",
     "metadata": {},
     "outputs": [
      {
       "metadata": {},
       "output_type": "pyout",
       "prompt_number": 35,
       "text": [
        "dshape(\"\"\"var * {\n",
        "  yearID: ?int32,\n",
        "  teamID: ?string,\n",
        "  lgID: ?string,\n",
        "  playerID: ?string,\n",
        "  salary: ?float64\n",
        "  }\"\"\")"
       ]
      }
     ],
     "prompt_number": 35
    },
    {
     "cell_type": "markdown",
     "metadata": {},
     "source": [
      "And then call it on the entire database"
     ]
    },
    {
     "cell_type": "code",
     "collapsed": false,
     "input": [
      "db = resource('sqlite:///data/lahman2013.sqlite')\n",
      "discover(db)"
     ],
     "language": "python",
     "metadata": {},
     "outputs": [
      {
       "metadata": {},
       "output_type": "pyout",
       "prompt_number": 36,
       "text": [
        "dshape(\"\"\"{\n",
        "  allstarfull: var * {\n",
        "    playerID: ?string,\n",
        "    yearID: ?int32,\n",
        "    gameNum: ?int32,\n",
        "    gameID: ?string,\n",
        "    teamID: ?string,\n",
        "    lgID: ?string,\n",
        "    GP: ?int32,\n",
        "    startingPos: ?int32\n",
        "    },\n",
        "  appearances: var * {\n",
        "    yearID: ?int32,\n",
        "    teamID: ?string,\n",
        "    lgID: ?string,\n",
        "    playerID: ?string,\n",
        "    G_all: ?int32,\n",
        "    G_batting: ?int32,\n",
        "    G_defense: ?int32,\n",
        "    G_p: ?int32,\n",
        "    G_c: ?int32,\n",
        "    G_1b: ?int32,\n",
        "    G_2b: ?int32,\n",
        "    G_3b: ?int32,\n",
        "    G_ss: ?int32,\n",
        "    G_lf: ?int32,\n",
        "    G_cf: ?int32,\n",
        "    G_rf: ?int32,\n",
        "    G_of: ?int32,\n",
        "    G_dh: ?int32,\n",
        "    G_ph: ?int32,\n",
        "    G_pr: ?int32\n",
        "    },\n",
        "  awardsmanagers: var * {\n",
        "    managerID: ?string,\n",
        "    awardID: ?string,\n",
        "    yearID: ?int32,\n",
        "    lgID: ?string,\n",
        "    tie: ?string,\n",
        "    notes: ?string\n",
        "    },\n",
        "  awardsplayers: var * {\n",
        "    playerID: ?string,\n",
        "    awardID: ?string,\n",
        "    yearID: ?int32,\n",
        "    lgID: ?string,\n",
        "    tie: ?string,\n",
        "    notes: ?string\n",
        "    },\n",
        "  awardssharemanagers: var * {\n",
        "    awardID: ?string,\n",
        "    yearID: ?int32,\n",
        "    lgID: ?string,\n",
        "    managerID: ?string,\n",
        "    pointsWon: ?int32,\n",
        "    pointsMax: ?int32,\n",
        "    votesFirst: ?int32\n",
        "    },\n",
        "  awardsshareplayers: var * {\n",
        "    awardID: ?string,\n",
        "    yearID: ?int32,\n",
        "    lgID: ?string,\n",
        "    playerID: ?string,\n",
        "    pointsWon: ?float64,\n",
        "    pointsMax: ?int32,\n",
        "    votesFirst: ?float64\n",
        "    },\n",
        "  battingpost: var * {\n",
        "    yearID: ?int32,\n",
        "    round: ?string,\n",
        "    playerID: ?string,\n",
        "    teamID: ?string,\n",
        "    lgID: ?string,\n",
        "    G: ?int32,\n",
        "    AB: ?int32,\n",
        "    R: ?int32,\n",
        "    H: ?int32,\n",
        "    2B: ?int32,\n",
        "    3B: ?int32,\n",
        "    HR: ?int32,\n",
        "    RBI: ?int32,\n",
        "    SB: ?int32,\n",
        "    CS: ?int32,\n",
        "    BB: ?int32,\n",
        "    SO: ?int32,\n",
        "    IBB: ?int32,\n",
        "    HBP: ?int32,\n",
        "    SH: ?int32,\n",
        "    SF: ?int32,\n",
        "    GIDP: ?int32\n",
        "    },\n",
        "  fielding: var * {\n",
        "    playerID: ?string,\n",
        "    yearID: ?int32,\n",
        "    stint: ?int32,\n",
        "    teamID: ?string,\n",
        "    lgID: ?string,\n",
        "    POS: ?string,\n",
        "    G: ?int32,\n",
        "    GS: ?int32,\n",
        "    InnOuts: ?int32,\n",
        "    PO: ?int32,\n",
        "    A: ?int32,\n",
        "    E: ?int32,\n",
        "    DP: ?int32,\n",
        "    PB: ?int32,\n",
        "    WP: ?int32,\n",
        "    SB: ?int32,\n",
        "    CS: ?int32,\n",
        "    ZR: ?float64\n",
        "    },\n",
        "  fieldingof: var * {\n",
        "    playerID: ?string,\n",
        "    yearID: ?int32,\n",
        "    stint: ?int32,\n",
        "    Glf: ?int32,\n",
        "    Gcf: ?int32,\n",
        "    Grf: ?int32\n",
        "    },\n",
        "  fieldingpost: var * {\n",
        "    playerID: ?string,\n",
        "    yearID: ?int32,\n",
        "    teamID: ?string,\n",
        "    lgID: ?string,\n",
        "    round: ?string,\n",
        "    POS: ?string,\n",
        "    G: ?int32,\n",
        "    GS: ?int32,\n",
        "    InnOuts: ?int32,\n",
        "    PO: ?int32,\n",
        "    A: ?int32,\n",
        "    E: ?int32,\n",
        "    DP: ?int32,\n",
        "    TP: ?int32,\n",
        "    PB: ?int32,\n",
        "    SB: ?int32,\n",
        "    CS: ?int32\n",
        "    },\n",
        "  halloffame: var * {\n",
        "    hofID: ?string,\n",
        "    yearid: ?int32,\n",
        "    votedBy: ?string,\n",
        "    ballots: ?int32,\n",
        "    needed: ?int32,\n",
        "    votes: ?int32,\n",
        "    inducted: ?string,\n",
        "    category: ?string\n",
        "    },\n",
        "  hofold: var * {\n",
        "    hofID: ?string,\n",
        "    yearid: ?int32,\n",
        "    votedBy: ?string,\n",
        "    ballots: ?int32,\n",
        "    votes: ?int32,\n",
        "    inducted: ?string,\n",
        "    category: ?string\n",
        "    },\n",
        "  managers: var * {\n",
        "    managerID: ?string,\n",
        "    yearID: ?int32,\n",
        "    teamID: ?string,\n",
        "    lgID: ?string,\n",
        "    inseason: ?int32,\n",
        "    G: ?int32,\n",
        "    W: ?int32,\n",
        "    L: ?int32,\n",
        "    rank: ?int32,\n",
        "    plyrMgr: ?string\n",
        "    },\n",
        "  managershalf: var * {\n",
        "    managerID: ?string,\n",
        "    yearID: ?int32,\n",
        "    teamID: ?string,\n",
        "    lgID: ?string,\n",
        "    inseason: ?int32,\n",
        "    half: ?int32,\n",
        "    G: ?int32,\n",
        "    W: ?int32,\n",
        "    L: ?int32,\n",
        "    rank: ?int32\n",
        "    },\n",
        "  master: var * {\n",
        "    lahmanID: ?int32,\n",
        "    playerID: ?string,\n",
        "    managerID: ?string,\n",
        "    hofID: ?string,\n",
        "    birthYear: ?int32,\n",
        "    birthMonth: ?int32,\n",
        "    birthDay: ?int32,\n",
        "    birthCountry: ?string,\n",
        "    birthState: ?string,\n",
        "    birthCity: ?string,\n",
        "    deathYear: ?int32,\n",
        "    deathMonth: ?int32,\n",
        "    deathDay: ?int32,\n",
        "    deathCountry: ?string,\n",
        "    deathState: ?string,\n",
        "    deathCity: ?string,\n",
        "    nameFirst: ?string,\n",
        "    nameLast: ?string,\n",
        "    nameNote: ?string,\n",
        "    nameGiven: ?string,\n",
        "    nameNick: ?string,\n",
        "    weight: ?int32,\n",
        "    height: ?float64,\n",
        "    bats: ?string,\n",
        "    throws: ?string,\n",
        "    debut: ?string,\n",
        "    finalGame: ?string,\n",
        "    college: ?string,\n",
        "    lahman40ID: ?string,\n",
        "    lahman45ID: ?string,\n",
        "    retroID: ?string,\n",
        "    holtzID: ?string,\n",
        "    bbrefID: ?string\n",
        "    },\n",
        "  pitching: var * {\n",
        "    playerID: ?string,\n",
        "    yearID: ?int32,\n",
        "    stint: ?int32,\n",
        "    teamID: ?string,\n",
        "    lgID: ?string,\n",
        "    W: ?int32,\n",
        "    L: ?int32,\n",
        "    G: ?int32,\n",
        "    GS: ?int32,\n",
        "    CG: ?int32,\n",
        "    SHO: ?int32,\n",
        "    SV: ?int32,\n",
        "    IPouts: ?int32,\n",
        "    H: ?int32,\n",
        "    ER: ?int32,\n",
        "    HR: ?int32,\n",
        "    BB: ?int32,\n",
        "    SO: ?int32,\n",
        "    BAOpp: ?float64,\n",
        "    ERA: ?float64,\n",
        "    IBB: ?int32,\n",
        "    WP: ?int32,\n",
        "    HBP: ?int32,\n",
        "    BK: ?int32,\n",
        "    BFP: ?int32,\n",
        "    GF: ?int32,\n",
        "    R: ?int32,\n",
        "    SH: ?int32,\n",
        "    SF: ?int32,\n",
        "    GIDP: ?int32\n",
        "    },\n",
        "  pitchingpost: var * {\n",
        "    playerID: ?string,\n",
        "    yearID: ?int32,\n",
        "    round: ?string,\n",
        "    teamID: ?string,\n",
        "    lgID: ?string,\n",
        "    W: ?int32,\n",
        "    L: ?int32,\n",
        "    G: ?int32,\n",
        "    GS: ?int32,\n",
        "    CG: ?int32,\n",
        "    SHO: ?int32,\n",
        "    SV: ?int32,\n",
        "    IPouts: ?int32,\n",
        "    H: ?int32,\n",
        "    ER: ?int32,\n",
        "    HR: ?int32,\n",
        "    BB: ?int32,\n",
        "    SO: ?int32,\n",
        "    BAOpp: ?float64,\n",
        "    ERA: ?float64,\n",
        "    IBB: ?int32,\n",
        "    WP: ?int32,\n",
        "    HBP: ?int32,\n",
        "    BK: ?int32,\n",
        "    BFP: ?int32,\n",
        "    GF: ?int32,\n",
        "    R: ?int32,\n",
        "    SH: ?int32,\n",
        "    SF: ?int32,\n",
        "    GIDP: ?int32\n",
        "    },\n",
        "  salaries: var * {\n",
        "    yearID: ?int32,\n",
        "    teamID: ?string,\n",
        "    lgID: ?string,\n",
        "    playerID: ?string,\n",
        "    salary: ?float64\n",
        "    },\n",
        "  schools: var * {\n",
        "    schoolID: ?string,\n",
        "    schoolName: ?string,\n",
        "    schoolCity: ?string,\n",
        "    schoolState: ?string,\n",
        "    schoolNick: ?string\n",
        "    },\n",
        "  schoolsplayers: var * {\n",
        "    playerID: ?string,\n",
        "    schoolID: ?string,\n",
        "    yearMin: ?int32,\n",
        "    yearMax: ?int32\n",
        "    },\n",
        "  seriespost: var * {\n",
        "    yearID: ?int32,\n",
        "    round: ?string,\n",
        "    teamIDwinner: ?string,\n",
        "    lgIDwinner: ?string,\n",
        "    teamIDloser: ?string,\n",
        "    lgIDloser: ?string,\n",
        "    wins: ?int32,\n",
        "    losses: ?int32,\n",
        "    ties: ?int32\n",
        "    },\n",
        "  teams: var * {\n",
        "    yearID: ?int32,\n",
        "    lgID: ?string,\n",
        "    teamID: ?string,\n",
        "    franchID: ?string,\n",
        "    divID: ?string,\n",
        "    Rank: ?int32,\n",
        "    G: ?int32,\n",
        "    Ghome: ?int32,\n",
        "    W: ?int32,\n",
        "    L: ?int32,\n",
        "    DivWin: ?string,\n",
        "    WCWin: ?string,\n",
        "    LgWin: ?string,\n",
        "    WSWin: ?string,\n",
        "    R: ?int32,\n",
        "    AB: ?int32,\n",
        "    H: ?int32,\n",
        "    2B: ?int32,\n",
        "    3B: ?int32,\n",
        "    HR: ?int32,\n",
        "    BB: ?int32,\n",
        "    SO: ?int32,\n",
        "    SB: ?int32,\n",
        "    CS: ?int32,\n",
        "    HBP: ?int32,\n",
        "    SF: ?int32,\n",
        "    RA: ?int32,\n",
        "    ER: ?int32,\n",
        "    ERA: ?float64,\n",
        "    CG: ?int32,\n",
        "    SHO: ?int32,\n",
        "    SV: ?int32,\n",
        "    IPouts: ?int32,\n",
        "    HA: ?int32,\n",
        "    HRA: ?int32,\n",
        "    BBA: ?int32,\n",
        "    SOA: ?int32,\n",
        "    E: ?int32,\n",
        "    DP: ?int32,\n",
        "    FP: ?float64,\n",
        "    name: ?string,\n",
        "    park: ?string,\n",
        "    attendance: ?int32,\n",
        "    BPF: ?int32,\n",
        "    PPF: ?int32,\n",
        "    teamIDBR: ?string,\n",
        "    teamIDlahman45: ?string,\n",
        "    teamIDretro: ?string\n",
        "    },\n",
        "  teamsfranchises: var * {\n",
        "    franchID: ?string,\n",
        "    franchName: ?string,\n",
        "    active: ?string,\n",
        "    NAassoc: ?string\n",
        "    },\n",
        "  teamshalf: var * {\n",
        "    yearID: ?int32,\n",
        "    lgID: ?string,\n",
        "    teamID: ?string,\n",
        "    Half: ?string,\n",
        "    divID: ?string,\n",
        "    DivWin: ?string,\n",
        "    Rank: ?int32,\n",
        "    G: ?int32,\n",
        "    W: ?int32,\n",
        "    L: ?int32\n",
        "    },\n",
        "  tmp_batting: var * {\n",
        "    playerID: ?string,\n",
        "    yearID: ?int32,\n",
        "    stint: ?int32,\n",
        "    teamID: ?string,\n",
        "    lgID: ?string,\n",
        "    G: ?int32,\n",
        "    G_batting: ?int32,\n",
        "    AB: ?int32,\n",
        "    R: ?int32,\n",
        "    H: ?int32,\n",
        "    2B: ?int32,\n",
        "    3B: ?int32,\n",
        "    HR: ?int32,\n",
        "    RBI: ?int32,\n",
        "    SB: ?int32,\n",
        "    CS: ?int32,\n",
        "    BB: ?int32,\n",
        "    SO: ?int32,\n",
        "    IBB: ?int32,\n",
        "    HBP: ?int32,\n",
        "    SH: ?int32,\n",
        "    SF: ?int32,\n",
        "    GIDP: ?int32,\n",
        "    G_old: ?int32\n",
        "    }\n",
        "  }\"\"\")"
       ]
      }
     ],
     "prompt_number": 36
    },
    {
     "cell_type": "code",
     "collapsed": false,
     "input": [],
     "language": "python",
     "metadata": {},
     "outputs": [],
     "prompt_number": 36
    },
    {
     "cell_type": "markdown",
     "metadata": {},
     "source": [
      "## 2.2 Tweaking Datashapes for Performance\n",
      "\n",
      "Some storage systems don't cleanly support some datashapes.  For example\n",
      "\n",
      "1.  SQL doesn't support nested data\n",
      "2.  HDF5 doesn't cleanly support datetimes\n",
      "3.  Variable length strings are often costly in binary stores\n",
      "4.  NumPy has poor missing value support\n",
      "\n",
      "Because of this we sometimes want to slightly change a datashape during migration."
     ]
    },
    {
     "cell_type": "markdown",
     "metadata": {},
     "source": [
      "### Fixed Length Strings\n",
      "\n",
      "A common example is the use of strings with a known maximum length, called \"fixed length strings,\" and strings with particular character encodings, like ASCII or UTF-8.\n",
      "\n",
      "Consider moving the following data, including strings, into a numpy array."
     ]
    },
    {
     "cell_type": "code",
     "collapsed": false,
     "input": [
      "data = [{'name': 'Alice', 'balance': 100},\n",
      "        {'name': 'Bob',   'balance': 200}]\n",
      "into(np.ndarray, data)"
     ],
     "language": "python",
     "metadata": {},
     "outputs": [
      {
       "metadata": {},
       "output_type": "pyout",
       "prompt_number": 37,
       "text": [
        "array([(100, 'Alice'), (200, 'Bob')], \n",
        "      dtype=[('balance', '<i8'), ('name', 'O')])"
       ]
      }
     ],
     "prompt_number": 37
    },
    {
     "cell_type": "markdown",
     "metadata": {},
     "source": [
      "Notice that the dtype for the `name` field is `'O'` for Python object type.  NumPy doesn't support arbitrary length strings and putting raw Python objects into a NumPy array can hurt performance.  So we choose a maximum length and tell that to into with a datashape.\n",
      "\n",
      "So how do we construct a datashape?  We could write it out by hand, but that is error prone.  Instead, we ask for the datashape of `data`, then copy-paste, making a small adjustment"
     ]
    },
    {
     "cell_type": "code",
     "collapsed": false,
     "input": [
      "discover(data)"
     ],
     "language": "python",
     "metadata": {},
     "outputs": [
      {
       "metadata": {},
       "output_type": "pyout",
       "prompt_number": 38,
       "text": [
        "dshape(\"2 * {balance: int64, name: string}\")"
       ]
      }
     ],
     "prompt_number": 38
    },
    {
     "cell_type": "code",
     "collapsed": false,
     "input": [
      "from into import dshape\n",
      "ds = dshape(\"2 * {balance: int64, name: string[10]}\") # max length of 10\n",
      "\n",
      "into(np.ndarray, data, dshape=ds)"
     ],
     "language": "python",
     "metadata": {},
     "outputs": [
      {
       "metadata": {},
       "output_type": "pyout",
       "prompt_number": 39,
       "text": [
        "array([(100, u'Alice'), (200, u'Bob')], \n",
        "      dtype=[('balance', '<i8'), ('name', '<U10')])"
       ]
      }
     ],
     "prompt_number": 39
    },
    {
     "cell_type": "markdown",
     "metadata": {},
     "source": [
      "Note the new type, `U10`, meaning Unicode of length ten or less.  Our data happens to be ASCII, so we'll specialize our datashape even more."
     ]
    },
    {
     "cell_type": "code",
     "collapsed": false,
     "input": [
      "ds = dshape(\"2 * {balance: int64, name: string[10, 'ascii']}\") # max length of 10\n",
      "into(np.ndarray, data, dshape=ds)"
     ],
     "language": "python",
     "metadata": {},
     "outputs": [
      {
       "metadata": {},
       "output_type": "pyout",
       "prompt_number": 40,
       "text": [
        "array([(100, 'Alice'), (200, 'Bob')], \n",
        "      dtype=[('balance', '<i8'), ('name', 'S10')])"
       ]
      }
     ],
     "prompt_number": 40
    },
    {
     "cell_type": "markdown",
     "metadata": {},
     "source": [
      "#### Exercise\n",
      "\n",
      "Move the data in `'data/iris.csv'` to the HDF5 dataset, `'data/myfile.hdf5::/iris'`.  Annotate the datatype of the `species` column to be ASCII with maximum length 30."
     ]
    },
    {
     "cell_type": "code",
     "collapsed": false,
     "input": [
      "csv = resource('data/iris.csv')\n",
      "discover(csv)"
     ],
     "language": "python",
     "metadata": {},
     "outputs": [
      {
       "metadata": {},
       "output_type": "pyout",
       "prompt_number": 41,
       "text": [
        "dshape(\"\"\"var * {\n",
        "  sepal_length: float64,\n",
        "  sepal_width: float64,\n",
        "  petal_length: float64,\n",
        "  petal_width: float64,\n",
        "  species: string\n",
        "  }\"\"\")"
       ]
      }
     ],
     "prompt_number": 41
    },
    {
     "cell_type": "code",
     "collapsed": false,
     "input": [],
     "language": "python",
     "metadata": {},
     "outputs": []
    },
    {
     "cell_type": "code",
     "collapsed": false,
     "input": [],
     "language": "python",
     "metadata": {},
     "outputs": []
    },
    {
     "cell_type": "code",
     "collapsed": false,
     "input": [],
     "language": "python",
     "metadata": {},
     "outputs": []
    },
    {
     "cell_type": "markdown",
     "metadata": {},
     "source": [
      "### Adding more metadata with DataShape\n",
      "\n",
      "Sometimes we store data in formats that lack metadata.  Adding a datashape can help to fill in these gaps.\n",
      "\n",
      "For example we might want to put the following latitude-longitude pairs into a DataFrame."
     ]
    },
    {
     "cell_type": "code",
     "collapsed": false,
     "input": [
      "data = [(33.1, -89.2), (37, -141.5), (41, -120.5)]\n",
      "into(pd.DataFrame, data)"
     ],
     "language": "python",
     "metadata": {},
     "outputs": [
      {
       "html": [
        "<div style=\"max-height:1000px;max-width:1500px;overflow:auto;\">\n",
        "<table border=\"1\" class=\"dataframe\">\n",
        "  <thead>\n",
        "    <tr style=\"text-align: right;\">\n",
        "      <th></th>\n",
        "      <th>0</th>\n",
        "      <th>1</th>\n",
        "    </tr>\n",
        "  </thead>\n",
        "  <tbody>\n",
        "    <tr>\n",
        "      <th>0</th>\n",
        "      <td> 33.1</td>\n",
        "      <td> -89.2</td>\n",
        "    </tr>\n",
        "    <tr>\n",
        "      <th>1</th>\n",
        "      <td> 37.0</td>\n",
        "      <td>-141.5</td>\n",
        "    </tr>\n",
        "    <tr>\n",
        "      <th>2</th>\n",
        "      <td> 41.0</td>\n",
        "      <td>-120.5</td>\n",
        "    </tr>\n",
        "  </tbody>\n",
        "</table>\n",
        "</div>"
       ],
       "metadata": {},
       "output_type": "pyout",
       "prompt_number": 50,
       "text": [
        "      0      1\n",
        "0  33.1  -89.2\n",
        "1  37.0 -141.5\n",
        "2  41.0 -120.5"
       ]
      }
     ],
     "prompt_number": 50
    },
    {
     "cell_type": "markdown",
     "metadata": {},
     "source": [
      "Note that, because our original data was stored in a format that didn't include the column names, the output lacks them as well.  We complement our data with a datashape."
     ]
    },
    {
     "cell_type": "code",
     "collapsed": false,
     "input": [
      "ds = dshape('var * {lat: float64, long: float64}')\n",
      "into(pd.DataFrame, data, dshape=ds)"
     ],
     "language": "python",
     "metadata": {},
     "outputs": [
      {
       "html": [
        "<div style=\"max-height:1000px;max-width:1500px;overflow:auto;\">\n",
        "<table border=\"1\" class=\"dataframe\">\n",
        "  <thead>\n",
        "    <tr style=\"text-align: right;\">\n",
        "      <th></th>\n",
        "      <th>lat</th>\n",
        "      <th>long</th>\n",
        "    </tr>\n",
        "  </thead>\n",
        "  <tbody>\n",
        "    <tr>\n",
        "      <th>0</th>\n",
        "      <td> 33.1</td>\n",
        "      <td> -89.2</td>\n",
        "    </tr>\n",
        "    <tr>\n",
        "      <th>1</th>\n",
        "      <td> 37.0</td>\n",
        "      <td>-141.5</td>\n",
        "    </tr>\n",
        "    <tr>\n",
        "      <th>2</th>\n",
        "      <td> 41.0</td>\n",
        "      <td>-120.5</td>\n",
        "    </tr>\n",
        "  </tbody>\n",
        "</table>\n",
        "</div>"
       ],
       "metadata": {},
       "output_type": "pyout",
       "prompt_number": 53,
       "text": [
        "    lat   long\n",
        "0  33.1  -89.2\n",
        "1  37.0 -141.5\n",
        "2  41.0 -120.5"
       ]
      }
     ],
     "prompt_number": 53
    },
    {
     "cell_type": "markdown",
     "metadata": {},
     "source": [
      "## Create new datasets with `resource` and datashape\n",
      "\n",
      "In the last section we used `resource` to acquire existing datasets from string URIs.  \n",
      "\n",
      "We also use the `resource` function to create new datasets given a URI and a datashape."
     ]
    },
    {
     "cell_type": "markdown",
     "metadata": {},
     "source": [
      "#### Example\n",
      "\n",
      "We create a new HDF5 dataset to store 100 by 100 integers."
     ]
    },
    {
     "cell_type": "code",
     "collapsed": false,
     "input": [
      "ds = dshape('100 * 100 * int64')\n",
      "dset = resource('myfile.hdf5::/x', dshape=ds)\n",
      "dset"
     ],
     "language": "python",
     "metadata": {},
     "outputs": [
      {
       "metadata": {},
       "output_type": "pyout",
       "prompt_number": 58,
       "text": [
        "<HDF5 dataset \"points\": shape (100, 100), type \"<i8\">"
       ]
      }
     ],
     "prompt_number": 58
    },
    {
     "cell_type": "markdown",
     "metadata": {},
     "source": [
      "#### Exercise\n",
      "\n",
      "Create a new SQLite table named `transactions` in `'data/my.db'` with the following datashape\n",
      "\n",
      "    var * {name: string, balance: int, timestamp: datetime}\n",
      "    \n",
      "Here `var` stands for \"variable length\" or generally \"a dimension to which we don't know a fixed size.\""
     ]
    },
    {
     "cell_type": "code",
     "collapsed": false,
     "input": [],
     "language": "python",
     "metadata": {},
     "outputs": []
    },
    {
     "cell_type": "markdown",
     "metadata": {},
     "source": [
      "Note that you could also have built this table using raw SQLAlchemy code.  Knowing datashape lets you skip learning many libraries like SQLAlchemy and H5Py for simple tasks.  `into` serves as a single interface over many useful libraries."
     ]
    },
    {
     "cell_type": "code",
     "collapsed": false,
     "input": [
      "import sqlalchemy as sa\n",
      "\n",
      "engine = sa.create_engine('sqlite:///data/my.db')\n",
      "metadata = sa.MetaData(engine)\n",
      "transactions = sa.Table('transactions', metadata,\n",
      "                        sa.Column('name', sa.String),\n",
      "                        sa.Column('balance', sa.Integer),\n",
      "                        sa.Column('timestamp', sa.DateTime))\n",
      "transactions.create()"
     ],
     "language": "python",
     "metadata": {},
     "outputs": [],
     "prompt_number": 60
    }
   ],
   "metadata": {}
  }
 ]
}