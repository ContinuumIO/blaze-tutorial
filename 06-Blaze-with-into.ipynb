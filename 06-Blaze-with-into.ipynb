{
 "metadata": {
  "name": "",
  "signature": "sha256:3cf9d633be5ebcd2885ab194ce7449c6b226d25383622ba90535b4c42b49f9e2"
 },
 "nbformat": 3,
 "nbformat_minor": 0,
 "worksheets": [
  {
   "cells": [
    {
     "cell_type": "markdown",
     "metadata": {},
     "source": [
      "<img src=\"images/blaze_med.png\" alt=\"Blaze Logo\"\n",
      "                                align=\"right\"\n",
      "                                width=\"30%\">\n",
      "\n",
      "# Getting Started with Blaze\n",
      "\n",
      "* Full tutorial available at http://github.com/ContinuumIO/blaze-tutorial\n",
      "* Install software with `conda install -c blaze blaze`"
     ]
    },
    {
     "cell_type": "markdown",
     "metadata": {},
     "source": [
      "## 3.  Storing results with `into`\n",
      "\n",
      "We just played with some interesting queries on baseball statistics"
     ]
    },
    {
     "cell_type": "code",
     "collapsed": false,
     "input": [
      "from blaze import Data, into, by, join\n",
      "db = Data('sqlite:///data/lahman.db')\n",
      "joined = join(db.salaries, db.teams)\n",
      "result = by(joined[['name', 'yearID']], avg=joined.salary.mean())\n",
      "result"
     ],
     "language": "python",
     "metadata": {},
     "outputs": [
      {
       "metadata": {},
       "output_type": "pyout",
       "prompt_number": 1,
       "text": [
        "                    name  yearID             avg\n",
        "0         Anaheim Angels    1997  1004370.064516\n",
        "1         Anaheim Angels    1998  1214147.058824\n",
        "2         Anaheim Angels    1999  1384704.150000\n",
        "3         Anaheim Angels    2000  1715472.233333\n",
        "4         Anaheim Angels    2001  1584505.566667\n",
        "5         Anaheim Angels    2002  2204345.250000\n",
        "6         Anaheim Angels    2003  2927098.777778\n",
        "7         Anaheim Angels    2004  3723506.185185\n",
        "8   Arizona Diamondbacks    1998   898527.777778\n",
        "9   Arizona Diamondbacks    1999  2020705.852941\n",
        "..."
       ]
      }
     ],
     "prompt_number": 1
    },
    {
     "cell_type": "markdown",
     "metadata": {},
     "source": [
      "How do we now store this result or use it with other libraries?\n",
      "\n",
      "The result itself is a Blaze expression, not terribly useful if we're not using Blaze."
     ]
    },
    {
     "cell_type": "code",
     "collapsed": false,
     "input": [
      "type(result)"
     ],
     "language": "python",
     "metadata": {},
     "outputs": [
      {
       "metadata": {},
       "output_type": "pyout",
       "prompt_number": 2,
       "text": [
        "blaze.expr.split_apply_combine.By"
       ]
      }
     ],
     "prompt_number": 2
    },
    {
     "cell_type": "markdown",
     "metadata": {},
     "source": [
      "### Use normal Python collections like `list` or `np.array`\n",
      "\n",
      "Blaze follows normal conventions and so can be converted by standard constructors"
     ]
    },
    {
     "cell_type": "code",
     "collapsed": false,
     "input": [
      "list(result)"
     ],
     "language": "python",
     "metadata": {},
     "outputs": []
    },
    {
     "cell_type": "code",
     "collapsed": false,
     "input": [
      "import numpy as np\n",
      "np.array(result)"
     ],
     "language": "python",
     "metadata": {},
     "outputs": []
    },
    {
     "cell_type": "markdown",
     "metadata": {},
     "source": [
      "### Use `into`\n",
      "\n",
      "Alternatively, Blaze has registered itself into the `into` project and so can migrate its results to any of those formats."
     ]
    },
    {
     "cell_type": "code",
     "collapsed": false,
     "input": [
      "into('salaries.csv', result)"
     ],
     "language": "python",
     "metadata": {},
     "outputs": []
    },
    {
     "cell_type": "code",
     "collapsed": false,
     "input": [
      "!head salaries.csv"
     ],
     "language": "python",
     "metadata": {},
     "outputs": []
    },
    {
     "cell_type": "markdown",
     "metadata": {},
     "source": [
      "#### Exercise\n",
      "\n",
      "Dump `results` into the following formats"
     ]
    },
    {
     "cell_type": "code",
     "collapsed": false,
     "input": [
      "# Dump results into a Python set\n"
     ],
     "language": "python",
     "metadata": {},
     "outputs": []
    },
    {
     "cell_type": "code",
     "collapsed": false,
     "input": [
      "# Dump results into a Pandas DataFrame\n"
     ],
     "language": "python",
     "metadata": {},
     "outputs": []
    },
    {
     "cell_type": "code",
     "collapsed": false,
     "input": [
      "# Dump results into a JSON file, inspect the file to make sure that it came out ok\n"
     ],
     "language": "python",
     "metadata": {},
     "outputs": []
    }
   ],
   "metadata": {}
  }
 ]
}