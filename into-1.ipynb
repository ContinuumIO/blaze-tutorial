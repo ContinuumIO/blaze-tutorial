{
 "metadata": {
  "name": "",
  "signature": "sha256:b27f257330ebded8d7b1fa1512324a2a9e6002ea274bc9b2bc09c00f27b7f69b"
 },
 "nbformat": 3,
 "nbformat_minor": 0,
 "worksheets": [
  {
   "cells": [
    {
     "cell_type": "markdown",
     "metadata": {},
     "source": [
      "<img src=\"images/blaze_med.png\" alt=\"Blaze Logo\"\n",
      "                                align=\"right\"\n",
      "                                width=\"30%\">\n",
      "\n",
      "# Getting started with `into`\n",
      "\n",
      "* Full tutorial available at http://github.com/ContinuumIO/blaze-tutorial\n",
      "* Install software with `conda install -c blaze blaze`"
     ]
    },
    {
     "cell_type": "markdown",
     "metadata": {},
     "source": [
      "# 0. Introduction\n",
      "\n",
      "## `into` migrates data between formats\n",
      "\n",
      "We describe \"data\" with a few attributes\n",
      "\n",
      "1.  Where that data lives (in a file on your laptop, in the cloud, etc..)\n",
      "2.  What data-types we use (we represent names as `strings` and balances as `float32`s)\n",
      "3.  What storage format we use (we store in CSV, in a PostgreSQL database, in JSON)\n",
      "4.  The semantic values that those bits represent (Barack Obama, or the number 3)\n",
      "\n",
      "As analysts we care only about point 4, the values that our data represent.  Points 1-3 are incidental to how we use computers; these points only get in the way of analysis.\n",
      "\n",
      "As computationalists though we care very deeply about points 1-3.  The choice of format, location, and datatype *strongly* impact the efficiency and correctness of our computations.  Good choices here can mean the difference between waiting overnight and using our data *interactively*.\n",
      "\n",
      "Unfortunately points 1-3 encompass a lot of complexity and change more quickly than most analysts care to manage.\n",
      "\n",
      "The `into` project alleviates the pain of dealing with the first three points by providing intuitive description and transfer between data formats and storage systems.  This allows analysts to quickly reason about and migrate their data to efficient, correct, and resilient formats."
     ]
    },
    {
     "cell_type": "markdown",
     "metadata": {},
     "source": [
      "### Motivating Example\n",
      "\n",
      "Before we start small with the tutorial we give a more comprehensive example.\n",
      "\n",
      "We have a small CSV file holding the iris data"
     ]
    },
    {
     "cell_type": "code",
     "collapsed": false,
     "input": [
      "!head -5 data/iris.csv"
     ],
     "language": "python",
     "metadata": {},
     "outputs": []
    },
    {
     "cell_type": "markdown",
     "metadata": {},
     "source": [
      "We put this data into a list, a NumPy array, and a SQLite database"
     ]
    },
    {
     "cell_type": "code",
     "collapsed": false,
     "input": [
      "from into import into\n",
      "into(list, 'data/iris.csv')[:5]"
     ],
     "language": "python",
     "metadata": {},
     "outputs": []
    },
    {
     "cell_type": "code",
     "collapsed": false,
     "input": [
      "import numpy as np\n",
      "into(np.ndarray, 'data/iris.csv')[:5]"
     ],
     "language": "python",
     "metadata": {},
     "outputs": []
    },
    {
     "cell_type": "code",
     "collapsed": false,
     "input": [
      "into('sqlite:///data/my.db::iris', 'data/iris.csv')"
     ],
     "language": "python",
     "metadata": {},
     "outputs": []
    },
    {
     "cell_type": "markdown",
     "metadata": {},
     "source": [
      "### Outline\n",
      "\n",
      "Into moves data between formats intuitively.\n",
      "\n",
      "We structure this tutorial as follows:\n",
      "\n",
      "1.  Basic instructions on how to use this library effectively\n",
      "2.  A discussion of how to add datatype information to enhance the performance of your storage solution\n",
      "3.  An in-depth explanation of how these transfers are made as efficiently as possible."
     ]
    },
    {
     "cell_type": "markdown",
     "metadata": {},
     "source": [
      "# 1.  Basic Usage"
     ]
    },
    {
     "cell_type": "markdown",
     "metadata": {},
     "source": [
      "`into` is available on conda\n",
      "\n",
      "    conda install into\n",
      "    \n",
      "or on PyPI\n",
      "\n",
      "    pip install into\n",
      "    \n",
      "We import the `into` function from the `into` project."
     ]
    },
    {
     "cell_type": "markdown",
     "metadata": {},
     "source": [
      "## 1.1 `into`"
     ]
    },
    {
     "cell_type": "code",
     "collapsed": false,
     "input": [
      "from into import into"
     ],
     "language": "python",
     "metadata": {},
     "outputs": []
    },
    {
     "cell_type": "markdown",
     "metadata": {},
     "source": [
      "Into takes two arguments, a target and a source\n",
      "\n",
      "    into(target, source)\n",
      "    \n",
      "And it turns the source into something like the target"
     ]
    },
    {
     "cell_type": "markdown",
     "metadata": {},
     "source": [
      "### The `target` can be a type\n",
      "\n",
      "In which case it makes a new object of that type"
     ]
    },
    {
     "cell_type": "code",
     "collapsed": false,
     "input": [
      "import numpy as np\n",
      "into(np.ndarray, [1, 2, 3])"
     ],
     "language": "python",
     "metadata": {},
     "outputs": []
    },
    {
     "cell_type": "code",
     "collapsed": false,
     "input": [
      "into(set, [1, 2, 3])"
     ],
     "language": "python",
     "metadata": {},
     "outputs": []
    },
    {
     "cell_type": "code",
     "collapsed": false,
     "input": [
      "import pandas as pd\n",
      "into(pd.Series, (10, 20, 30))"
     ],
     "language": "python",
     "metadata": {},
     "outputs": []
    },
    {
     "cell_type": "markdown",
     "metadata": {},
     "source": [
      "#### Exercise\n",
      "\n",
      "Use into to turn the following DataFrame into an `np.ndarray` and a `list`"
     ]
    },
    {
     "cell_type": "code",
     "collapsed": false,
     "input": [
      "df = pd.DataFrame([['Alice',   100],\n",
      "                   ['Bob',     200],\n",
      "                   ['Charlie', 300]], columns=['name', 'balance'])"
     ],
     "language": "python",
     "metadata": {},
     "outputs": []
    },
    {
     "cell_type": "code",
     "collapsed": false,
     "input": [
      "# Turn df into an np.ndarray\n",
      "into(..., ...)"
     ],
     "language": "python",
     "metadata": {},
     "outputs": []
    },
    {
     "cell_type": "code",
     "collapsed": false,
     "input": [
      "# Turn df into a list\n",
      "into(..., ...)"
     ],
     "language": "python",
     "metadata": {},
     "outputs": []
    },
    {
     "cell_type": "markdown",
     "metadata": {},
     "source": [
      "### The `target` can be an object\n",
      "\n",
      "In which we append the source to that object."
     ]
    },
    {
     "cell_type": "code",
     "collapsed": false,
     "input": [
      "target = []\n",
      "into(target, (1, 2, 3))\n",
      "into(target, (1, 2, 3))\n",
      "into(target, (1, 2, 3))\n",
      "target"
     ],
     "language": "python",
     "metadata": {},
     "outputs": []
    },
    {
     "cell_type": "markdown",
     "metadata": {},
     "source": [
      "#### Exercise\n",
      "\n",
      "Use `into` to make a set holding all the data in the following list of DataFrames."
     ]
    },
    {
     "cell_type": "code",
     "collapsed": false,
     "input": [
      "L = [pd.DataFrame({'name': ['Alice', 'Bob'], 'balance': [100, 200]}),\n",
      "     pd.DataFrame({'name': ['Charlie', 'Dan'], 'balance': [300, 400]}),\n",
      "     pd.DataFrame({'name': ['Edith', 'Frank'], 'balance': [500, 600]})]"
     ],
     "language": "python",
     "metadata": {},
     "outputs": []
    },
    {
     "cell_type": "code",
     "collapsed": false,
     "input": [
      "s = set()\n",
      "# Use into and some kind of for loop to put all of the data in L into the set s\n"
     ],
     "language": "python",
     "metadata": {},
     "outputs": []
    },
    {
     "cell_type": "markdown",
     "metadata": {},
     "source": [
      "#### Exercise\n",
      "\n",
      "Repeat the last exercise but append all of the data onto a `tuple`.  What do you expect to happen?"
     ]
    },
    {
     "cell_type": "code",
     "collapsed": false,
     "input": [
      "t = tuple()\n"
     ],
     "language": "python",
     "metadata": {},
     "outputs": []
    },
    {
     "cell_type": "markdown",
     "metadata": {},
     "source": [
      "It's important to know that `into` has limitations.  "
     ]
    },
    {
     "cell_type": "markdown",
     "metadata": {},
     "source": [
      "### The target can be a string\n",
      "\n",
      "Many data sources external to Python (like a CSV file) don't have a Python object that we can put as the source or target.  In these cases we use string URIs.  Examples of strings include\n",
      "\n",
      "    myfile.csv\n",
      "    myfile.json\n",
      "    myfile.hdf5::/data/path\n",
      "    sqlite:///myfile.db::table-name\n",
      "    postgresql:///user:password@host:port::table-name\n",
      "    ...\n",
      "    \n",
      "These can go either in the source or target inputs.\n",
      "\n",
      "Here we write our dataframe to a CSV file"
     ]
    },
    {
     "cell_type": "code",
     "collapsed": false,
     "input": [
      "# Write DataFrame to CSV file\n",
      "into('accounts.csv', df)"
     ],
     "language": "python",
     "metadata": {},
     "outputs": []
    },
    {
     "cell_type": "code",
     "collapsed": false,
     "input": [
      "!head accounts.csv  # print out text in accounts.csv"
     ],
     "language": "python",
     "metadata": {},
     "outputs": []
    },
    {
     "cell_type": "code",
     "collapsed": false,
     "input": [
      "# Read CSV file into memory as list\n",
      "into(list, 'accounts.csv')"
     ],
     "language": "python",
     "metadata": {},
     "outputs": []
    },
    {
     "cell_type": "markdown",
     "metadata": {},
     "source": [
      "#### Exercise\n",
      "\n",
      "Read the contents of the file `'data/iris.csv'` into a `pd.DataFrame`.  Then write that dataframe to `'data/iris.json'`.  Inspect the json data to ensure that it came out correctly."
     ]
    },
    {
     "cell_type": "code",
     "collapsed": false,
     "input": [],
     "language": "python",
     "metadata": {},
     "outputs": []
    },
    {
     "cell_type": "markdown",
     "metadata": {},
     "source": [
      "#### Exercise\n",
      "\n",
      "Write the contents of your json file to a SQLite database using the following URI as target\n",
      "\n",
      "    `sqlite:///data/my.db::iris'\n",
      "    \n",
      "Then read data from that SQLite database into Python to make sure that it arrived safely."
     ]
    },
    {
     "cell_type": "markdown",
     "metadata": {},
     "source": [
      "## 1.2  `resource`\n",
      "\n",
      "Much interesting data lives *outside* of Python.  As we just saw, we often use URIs to specify this kind of data.\n",
      "\n",
      "Here we load a bit of a SQL database on baseball statistics into memory as a list"
     ]
    },
    {
     "cell_type": "code",
     "collapsed": false,
     "input": [
      "into(list, 'sqlite:///data/lahman.db::battingpost')[:5]"
     ],
     "language": "python",
     "metadata": {},
     "outputs": []
    },
    {
     "cell_type": "markdown",
     "metadata": {},
     "source": [
      "Now we learn how these strings work so that we can specify many types of external data.\n",
      "\n",
      "Internally `into` uses the function `resource` to turn a string into a Python proxy object.  Usually these objects don't hold the data themselves.  They just serve as useful pointers to where the data lives.  In most cases we use other Python projects for proxy objects.\n",
      "\n",
      "In the case of SQL tables, resource returns a `sqlalchemy.Table` object."
     ]
    },
    {
     "cell_type": "code",
     "collapsed": false,
     "input": [
      "from into import resource\n",
      "t = resource('sqlite:///data/lahman.db::battingpost')"
     ],
     "language": "python",
     "metadata": {},
     "outputs": []
    },
    {
     "cell_type": "code",
     "collapsed": false,
     "input": [
      "type(t)"
     ],
     "language": "python",
     "metadata": {},
     "outputs": []
    },
    {
     "cell_type": "code",
     "collapsed": false,
     "input": [
      "t"
     ],
     "language": "python",
     "metadata": {},
     "outputs": []
    },
    {
     "cell_type": "markdown",
     "metadata": {},
     "source": [
      "We use *this* object as the `into` source."
     ]
    },
    {
     "cell_type": "code",
     "collapsed": false,
     "input": [
      "into(list, t)[:5]"
     ],
     "language": "python",
     "metadata": {},
     "outputs": []
    },
    {
     "cell_type": "markdown",
     "metadata": {},
     "source": [
      "So when you write\n",
      "\n",
      "```python\n",
      "into(list, 'some-string')\n",
      "```\n",
      "\n",
      "It is actually just shorthand for\n",
      "\n",
      "```python\n",
      "into(list, resource('some-string'))\n",
      "```"
     ]
    },
    {
     "cell_type": "markdown",
     "metadata": {},
     "source": [
      "#### Exercise\n",
      "\n",
      "We have some data in the `data/` directory.  Use `resource` on each of the following strings to see what it returns.\n",
      "\n",
      "    sqlite:///data/lahman.db::battingpost\n",
      "    sqlite:///data/lahman.db::salaries\n",
      "    sqlite:///data/lahman.db\n",
      "    data/sample.hdf5::/x\n",
      "    data/sample.hdf5\n",
      "    data/iris.csv"
     ]
    },
    {
     "cell_type": "markdown",
     "metadata": {},
     "source": [
      "### The `::` separator\n",
      "\n",
      "In the last exercise we saw the following URI for a table in a SQLite database\n",
      "\n",
      "    sqlite:///data/my.db::iris\n",
      "    \n",
      "We deconstruct this URI to make it more clear.  First we separate the URI on `::` to separate out the database from the table name\n",
      "\n",
      "    Database:    sqlite:///data/my.db\n",
      "    Table name:  iris\n",
      "    \n",
      "We use the `::` separator whenever datasets live within some nested structure like a database or HDF5 file."
     ]
    },
    {
     "cell_type": "markdown",
     "metadata": {},
     "source": [
      "### Specifying protocols with `://`\n",
      "\n",
      "The database string `sqlite:///data/my.db` is specific to SQLAlchemy, but follows a common format, notably\n",
      "\n",
      "    Protocol:  sqlite://\n",
      "    Filename:  data/my.db\n",
      "    \n",
      "Into also uses protocols in many cases to give extra hints on how to handle your data.  For example Python has a few different libraries to handle HDF5 files (`h5py`, `pytables`, `pandas.HDFStore`).  By default when we see a URI like `myfile.hdf5` we currently use `h5py`.  To override this behavior you can specify a protocol string like `hdfstore://myfile.hdf5` to specify that you want to use the special `pandas.HDFStore` format.\n"
     ]
    },
    {
     "cell_type": "markdown",
     "metadata": {},
     "source": [
      "### Exercise\n",
      "\n",
      "People use the `.json` extension in two ways.  \n",
      "\n",
      "1.  The entire file is one JSON blob, often a list of dictionaries.  (Traditional JSON)\n",
      "2.  Each line of the file is one JSON blob (Line-delimited JSON or JSON-lines.)\n",
      "\n",
      "Parsers have a hard time figuring out which case is which.  When reading an existing file `into` can usually figure out if the file is line-delimited or not.  When createing a file however we don't know what your intention is.  You can specify your intention by adding either a `json://` or `jsonlines://` protocol."
     ]
    },
    {
     "cell_type": "markdown",
     "metadata": {},
     "source": [
      "Here we write our dataframe to a JSON file."
     ]
    },
    {
     "cell_type": "code",
     "collapsed": true,
     "input": [
      "into('accounts.json', df)\n",
      "!head accounts.json"
     ],
     "language": "python",
     "metadata": {},
     "outputs": []
    },
    {
     "cell_type": "code",
     "collapsed": false,
     "input": [
      "!rm accounts.json  # Remove old file"
     ],
     "language": "python",
     "metadata": {},
     "outputs": []
    },
    {
     "cell_type": "markdown",
     "metadata": {},
     "source": [
      "This is the traditional single-JSON-blob-per-file format.  \n",
      "\n",
      "Write our DataFrame in line-delimited format by adding a `jsonlines://` protocol to the target string.  Inspect the result to make sure that each line is a separate valid JSON blob."
     ]
    }
   ],
   "metadata": {}
  }
 ]
}